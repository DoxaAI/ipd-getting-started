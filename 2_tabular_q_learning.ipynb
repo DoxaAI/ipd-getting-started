{
 "cells": [
  {
   "cell_type": "markdown",
   "metadata": {},
   "source": [
    "# Applying Tabular Q-Learning to the IPD\n",
    "\n",
    "**Reinforcement learning** is a fascinating and exciting domain within machine learning. While there are a range of different approaches -- with more being continually researched and published -- the aim of this Jupyter notebook is to demonstrate how **tabular Q-learning** can be applied to the iterated prisoner's dilemma game.\n",
    "\n",
    "## An introduction to Q-learning\n",
    "\n",
    "**Q-learning** is an off-policy, model-free form of reinforcement learning that was outlined by (now Professor) Chris Watkins in his 1989 Cambridge University PhD thesis. In short, Q-learning agents apply some **behavioural policy** to pick actions in particular states (in our case, the **epsilon-greedy strategy**) and then learns some **target policy** by adjusting its **action-value function** `Q(s, a)` based on the received reward.\n",
    "\n",
    "When using the epsilon-greedy strategy to select an action at each timestep, the agent either selects an action uniformly at random from the action space (here, `COOPERATE` or `DEFECT`) with probability `epsilon` or otherwise greedily selects the action associated with the highest Q-value the remainder of the time.\n",
    "\n",
    "<center>\n",
    "    <img alt=\"Q-learning behaviour (with the epsilon-greedy strategy)\" src=\"images/qlearning-behaviour.png\" width=320>\n",
    "</center>\n",
    "\n",
    "After playing the move, the agent receives a reward, which is used to update the action-value function in the following way:\n",
    "\n",
    "<center>\n",
    "    <img alt=\"Q-learning update rule\" src=\"images/qlearning-update-rule.png\" width=500>\n",
    "</center>\n",
    "\n",
    "You can think of the action-value function `Q(s, a)` as estimating the long-term discounted reward from taking action `a` in state `s`. \n",
    "\n",
    "Here, we are describing 'tabular' Q-learning, since `Q(s, a)` can essentially be represented as a giant table; however, this makes tabular Q-learning infeasible to apply in circumstances where there are large or even continuous state and action spaces. Instead, another approach is to parameterise `Q(s, a)` using a deep neural network instead of a table: this is the central idea behind **deep Q-learning**.\n",
    "\n",
    "The tabular Q-learning agent used in the remainder of this notebook has been defined in the `examples/qlearning.py` file. You may wish to read through how it has been implemented first before continuing with this notebook. "
   ]
  },
  {
   "cell_type": "markdown",
   "metadata": {},
   "source": [
    "## Importing packages"
   ]
  },
  {
   "cell_type": "code",
   "execution_count": 1,
   "metadata": {},
   "outputs": [],
   "source": [
    "import matplotlib.pyplot as plt\n",
    "import numpy as np\n",
    "\n",
    "from engine import IPDGame, play_ipd\n",
    "from examples.qlearning import *\n",
    "from examples.simple import *\n",
    "from submission.ipd import IPDPlayer"
   ]
  },
  {
   "cell_type": "markdown",
   "metadata": {},
   "source": [
    "## Creating a training environment\n",
    "\n",
    "With the iterated prisoner's dilemma being a two-player game, there are a range of different strategies you could employ to train your reinforcement learning agents, ranging from gameplay against a select group of rule-based agents to the idea of self-play. To get started, we will look at building an environment for training against a single rule-based agent, which you will later be able to adapt to implement your own ideas!"
   ]
  },
  {
   "cell_type": "code",
   "execution_count": 2,
   "metadata": {},
   "outputs": [],
   "source": [
    "class SimpleIPDEnvironment:\n",
    "    def __init__(self, agent: IPDPlayer, opponent: IPDPlayer) -> None:\n",
    "        self.agent = agent\n",
    "        self.opponent = opponent\n",
    "\n",
    "    def reset(self) -> None:\n",
    "        \"\"\"Resets the environment to its initial state.\"\"\"\n",
    "\n",
    "        self.game = IPDGame()\n",
    "        self.i = 0\n",
    "\n",
    "    def step(self) -> None:\n",
    "        \"\"\"Steps the environment.\"\"\"\n",
    "\n",
    "        # Sample actions from the policy space\n",
    "        move1 = self.agent.play_move(self.opponent)\n",
    "        move2 = self.opponent.play_move(self.agent)\n",
    "\n",
    "        # Perform the actions\n",
    "        reward1, reward2 = self.game.play_move(move1, move2)\n",
    "\n",
    "        # Pass on the reward signal to the players\n",
    "        self.agent.update(move1, reward1)\n",
    "        self.opponent.update(move2, reward2)\n",
    "\n",
    "        self.i += 1\n",
    "\n",
    "        # Return (state, reward, done)\n",
    "        return (\n",
    "            (self.game.moves1, self.game.moves2),\n",
    "            reward1,\n",
    "            self.i >= self.game.total_moves,\n",
    "        )"
   ]
  },
  {
   "cell_type": "markdown",
   "metadata": {},
   "source": [
    "## Training the agent\n",
    "\n",
    "We start by defining a number of constants, which we can tune to affect the training process."
   ]
  },
  {
   "cell_type": "code",
   "execution_count": 3,
   "metadata": {},
   "outputs": [],
   "source": [
    "LEARNING_RATE = 0.1\n",
    "DISCOUNT_FACTOR = 0.99\n",
    "EPSILON = 0.2\n",
    "EPISODES = 10"
   ]
  },
  {
   "cell_type": "markdown",
   "metadata": {},
   "source": [
    "The next stage is to have our agent play a number of games (defined by `EPISODES`) against an opponent of our choice and (hopefully) learn a better policy!"
   ]
  },
  {
   "cell_type": "code",
   "execution_count": 4,
   "metadata": {},
   "outputs": [],
   "source": [
    "agent = TabularQLearningAgent(epsilon=EPSILON)\n",
    "opponent = TitForTat()\n",
    "\n",
    "env = SimpleIPDEnvironment(agent, opponent)\n",
    "rewards = []\n",
    "\n",
    "for _ in range(EPISODES):\n",
    "    env.reset()\n",
    "    state = None\n",
    "    done = False\n",
    "\n",
    "    # Perform an episode\n",
    "    while not done:\n",
    "        # Step the environment\n",
    "        (moves1, moves2), reward, done = env.step()\n",
    "\n",
    "        rewards.append(reward)\n",
    "\n",
    "        # Construct the new state\n",
    "        move1, move2 = to_index(moves1[-1]), to_index(moves2[-1])\n",
    "        new_state = (move1, move2)\n",
    "\n",
    "        # Apply the Q-learning update rule\n",
    "        if state:\n",
    "            agent._q_table[state][move1] += LEARNING_RATE * (\n",
    "                reward\n",
    "                + DISCOUNT_FACTOR * agent._q_table[new_state].max()\n",
    "                - agent._q_table[state][move1]\n",
    "            )\n",
    "\n",
    "        # Update the state\n",
    "        state = new_state"
   ]
  },
  {
   "attachments": {},
   "cell_type": "markdown",
   "metadata": {},
   "source": [
    "## Saving the resulting Q-table\n",
    "\n",
    "Having trained our agent, we can now save its Q-table so that we can reload it later, such as in a submission to DOXA."
   ]
  },
  {
   "cell_type": "code",
   "execution_count": 5,
   "metadata": {},
   "outputs": [],
   "source": [
    "agent.save_q_table(\"q_table.npz\")"
   ]
  },
  {
   "attachments": {},
   "cell_type": "markdown",
   "metadata": {},
   "source": [
    "If you do decide to upload code based on this Q-learning example to DOXA, you should save the `q_table.npz` file in the `submission/` directory so that it gets uploaded to DOXA along with the agent you implement in `submission/run.py` and the rest of the files in the `submission/` directory. \n",
    "\n",
    "When DOXA runs your submission, the current working directory will be the `submission/` directory you upload, so when you instantiate your agent in `submission/run.py`, ensure that the file path to the Q-table is relative to that (e.g. `q_table.npz`, not `submission/q_table.npz`)."
   ]
  },
  {
   "cell_type": "markdown",
   "metadata": {},
   "source": [
    "## Visualising the results\n",
    "\n",
    "In order to evaluate the performance of our agent, it can be useful to graph its rewards over the training process."
   ]
  },
  {
   "cell_type": "code",
   "execution_count": 6,
   "metadata": {},
   "outputs": [
    {
     "data": {
      "text/plain": [
       "[<matplotlib.lines.Line2D at 0x196a6eddba0>]"
      ]
     },
     "execution_count": 6,
     "metadata": {},
     "output_type": "execute_result"
    },
    {
     "data": {
      "image/png": "[encoded data removed]",
      "text/plain": [
       "<Figure size 1152x576 with 2 Axes>"
      ]
     },
     "metadata": {
      "needs_background": "light"
     },
     "output_type": "display_data"
    }
   ],
   "source": [
    "fig, (ax1, ax2) = plt.subplots(2, figsize=(16, 8))\n",
    "fig.tight_layout(pad=4)\n",
    "\n",
    "ax1.set_title(\"Rolling mean of the reward over each iteration\")\n",
    "ax1.set_xlabel(\"Iteration\")\n",
    "ax1.set_ylabel(\"Reward\")\n",
    "ax1.plot(np.convolve(rewards, np.ones(50), 'valid') / 50)\n",
    "\n",
    "ax2.set_title(\"Cumulative reward over each iteration\")\n",
    "ax2.set_xlabel(\"Iteration\")\n",
    "ax2.set_ylabel(\"Cumulative reward\")\n",
    "ax2.plot(np.cumsum(rewards))"
   ]
  },
  {
   "cell_type": "markdown",
   "metadata": {},
   "source": [
    "More directly, we can inspect the values of the Q-table itself, although this becomes impractical for larger Q-tables!"
   ]
  },
  {
   "cell_type": "code",
   "execution_count": 7,
   "metadata": {},
   "outputs": [
    {
     "data": {
      "text/plain": [
       "array([[[239.90188729, 222.21089191],\n",
       "        [235.0437452 , 168.43936233]],\n",
       "\n",
       "       [[226.12774311,  95.70002292],\n",
       "        [162.46417915,  10.54279369]]])"
      ]
     },
     "execution_count": 7,
     "metadata": {},
     "output_type": "execute_result"
    }
   ],
   "source": [
    "agent._q_table"
   ]
  },
  {
   "cell_type": "markdown",
   "metadata": {},
   "source": [
    "Finally, we can visualise the policy itself: which action our agent will take depending on the previous actions taken by it and its opponent."
   ]
  },
  {
   "cell_type": "code",
   "execution_count": 8,
   "metadata": {},
   "outputs": [
    {
     "data": {
      "image/png": "[encoded data removed]",
      "text/plain": [
       "<Figure size 432x288 with 2 Axes>"
      ]
     },
     "metadata": {
      "needs_background": "light"
     },
     "output_type": "display_data"
    }
   ],
   "source": [
    "policy = agent._q_table.argmax(axis=2)\n",
    "\n",
    "fig = plt.figure()\n",
    "ax = fig.add_subplot(111)\n",
    "m = ax.matshow(policy)\n",
    "fig.colorbar(m)\n",
    "\n",
    "ax.set_title(\"Policy\")\n",
    "ax.set_ylabel(\"Agent's previous move\")\n",
    "ax.set_xlabel(\"Opponent's previous move\")\n",
    "ax.set_xticks([0, 1])\n",
    "ax.set_yticks([0, 1])\n",
    "ax.set_xticklabels([\"C\", \"D\"])\n",
    "ax.set_yticklabels([\"C\", \"D\"])\n",
    "\n",
    "for (i, j), z in np.ndenumerate(policy):\n",
    "    ax.text(j, i, \"C\" if z == 0 else \"D\", ha=\"center\", va=\"center\", color=\"white\")\n",
    "    "
   ]
  },
  {
   "cell_type": "markdown",
   "metadata": {},
   "source": [
    "## The dangers of overfitting\n",
    "\n",
    "Great! We have trained an agent that in general learns to cooperate when playing against `TitForTat`, as we might expect, but how well does this agent perform against other opponents?\n"
   ]
  },
  {
   "cell_type": "code",
   "execution_count": 9,
   "metadata": {},
   "outputs": [
    {
     "name": "stdout",
     "output_type": "stream",
     "text": [
      "1     C (0) | D (5)\n",
      "2     C (0) | D (5)\n",
      "3     C (0) | D (5)\n",
      "4     C (0) | D (5)\n",
      "5     C (0) | D (5)\n",
      "6     C (0) | D (5)\n",
      "7     C (0) | D (5)\n",
      "8     C (0) | D (5)\n",
      "9     C (0) | D (5)\n",
      "10    C (0) | D (5)\n",
      "11    C (0) | D (5)\n",
      "12    C (0) | D (5)\n",
      "13    C (0) | D (5)\n",
      "14    C (0) | D (5)\n",
      "15    C (0) | D (5)\n",
      "16    C (0) | D (5)\n",
      "17    C (0) | D (5)\n",
      "18    C (0) | D (5)\n",
      "19    C (0) | D (5)\n",
      "20    C (0) | D (5)\n",
      "21    C (0) | D (5)\n",
      "22    C (0) | D (5)\n",
      "23    C (0) | D (5)\n",
      "24    C (0) | D (5)\n",
      "25    C (0) | D (5)\n",
      "26    C (0) | D (5)\n",
      "27    C (0) | D (5)\n",
      "28    C (0) | D (5)\n",
      "29    C (0) | D (5)\n",
      "30    C (0) | D (5)\n",
      "31    C (0) | D (5)\n",
      "32    C (0) | D (5)\n",
      "33    C (0) | D (5)\n",
      "34    C (0) | D (5)\n",
      "35    C (0) | D (5)\n",
      "36    C (0) | D (5)\n",
      "37    C (0) | D (5)\n",
      "38    C (0) | D (5)\n",
      "39    C (0) | D (5)\n",
      "40    C (0) | D (5)\n",
      "41    C (0) | D (5)\n",
      "42    C (0) | D (5)\n",
      "43    C (0) | D (5)\n",
      "44    C (0) | D (5)\n",
      "45    C (0) | D (5)\n",
      "46    C (0) | D (5)\n",
      "47    C (0) | D (5)\n",
      "48    C (0) | D (5)\n",
      "49    C (0) | D (5)\n",
      "50    C (0) | D (5)\n",
      "51    C (0) | D (5)\n",
      "52    C (0) | D (5)\n",
      "53    C (0) | D (5)\n",
      "54    C (0) | D (5)\n",
      "55    C (0) | D (5)\n",
      "56    C (0) | D (5)\n",
      "57    C (0) | D (5)\n",
      "58    C (0) | D (5)\n",
      "59    C (0) | D (5)\n",
      "60    C (0) | D (5)\n",
      "61    C (0) | D (5)\n",
      "62    C (0) | D (5)\n",
      "63    C (0) | D (5)\n",
      "64    C (0) | D (5)\n",
      "65    C (0) | D (5)\n",
      "66    C (0) | D (5)\n",
      "67    C (0) | D (5)\n",
      "68    C (0) | D (5)\n",
      "69    C (0) | D (5)\n",
      "70    C (0) | D (5)\n",
      "71    C (0) | D (5)\n",
      "72    C (0) | D (5)\n",
      "73    C (0) | D (5)\n",
      "74    C (0) | D (5)\n",
      "75    C (0) | D (5)\n",
      "76    C (0) | D (5)\n",
      "77    C (0) | D (5)\n",
      "78    C (0) | D (5)\n",
      "79    C (0) | D (5)\n",
      "80    C (0) | D (5)\n",
      "81    C (0) | D (5)\n",
      "82    C (0) | D (5)\n",
      "83    C (0) | D (5)\n",
      "84    C (0) | D (5)\n",
      "85    C (0) | D (5)\n",
      "86    C (0) | D (5)\n",
      "87    C (0) | D (5)\n",
      "88    C (0) | D (5)\n",
      "89    C (0) | D (5)\n",
      "90    C (0) | D (5)\n",
      "91    C (0) | D (5)\n",
      "92    C (0) | D (5)\n",
      "93    C (0) | D (5)\n",
      "94    C (0) | D (5)\n",
      "95    C (0) | D (5)\n",
      "96    C (0) | D (5)\n",
      "97    C (0) | D (5)\n",
      "98    C (0) | D (5)\n",
      "99    C (0) | D (5)\n",
      "100   C (0) | D (5)\n",
      "101   C (0) | D (5)\n",
      "102   C (0) | D (5)\n",
      "103   C (0) | D (5)\n",
      "104   C (0) | D (5)\n",
      "105   C (0) | D (5)\n",
      "106   C (0) | D (5)\n",
      "107   C (0) | D (5)\n",
      "108   C (0) | D (5)\n",
      "109   C (0) | D (5)\n",
      "110   C (0) | D (5)\n",
      "111   C (0) | D (5)\n",
      "112   C (0) | D (5)\n",
      "113   C (0) | D (5)\n",
      "114   C (0) | D (5)\n",
      "115   C (0) | D (5)\n",
      "116   C (0) | D (5)\n",
      "117   C (0) | D (5)\n",
      "118   C (0) | D (5)\n",
      "119   C (0) | D (5)\n",
      "120   C (0) | D (5)\n",
      "121   C (0) | D (5)\n",
      "122   C (0) | D (5)\n",
      "123   C (0) | D (5)\n",
      "124   C (0) | D (5)\n",
      "125   C (0) | D (5)\n",
      "126   C (0) | D (5)\n",
      "127   C (0) | D (5)\n",
      "128   C (0) | D (5)\n",
      "129   C (0) | D (5)\n",
      "130   C (0) | D (5)\n",
      "131   C (0) | D (5)\n",
      "132   C (0) | D (5)\n",
      "133   C (0) | D (5)\n",
      "134   C (0) | D (5)\n",
      "135   C (0) | D (5)\n",
      "136   C (0) | D (5)\n",
      "137   C (0) | D (5)\n",
      "138   C (0) | D (5)\n",
      "139   C (0) | D (5)\n",
      "140   C (0) | D (5)\n",
      "141   C (0) | D (5)\n",
      "142   C (0) | D (5)\n",
      "143   C (0) | D (5)\n",
      "144   C (0) | D (5)\n",
      "145   C (0) | D (5)\n",
      "146   C (0) | D (5)\n",
      "147   C (0) | D (5)\n",
      "148   C (0) | D (5)\n",
      "149   C (0) | D (5)\n",
      "150   C (0) | D (5)\n",
      "151   C (0) | D (5)\n",
      "152   C (0) | D (5)\n",
      "153   C (0) | D (5)\n",
      "154   C (0) | D (5)\n",
      "155   C (0) | D (5)\n",
      "156   C (0) | D (5)\n",
      "157   C (0) | D (5)\n",
      "158   C (0) | D (5)\n",
      "159   C (0) | D (5)\n",
      "160   C (0) | D (5)\n",
      "161   C (0) | D (5)\n",
      "162   C (0) | D (5)\n",
      "163   C (0) | D (5)\n",
      "164   C (0) | D (5)\n",
      "165   C (0) | D (5)\n",
      "166   C (0) | D (5)\n",
      "167   C (0) | D (5)\n",
      "168   C (0) | D (5)\n",
      "169   C (0) | D (5)\n",
      "170   C (0) | D (5)\n",
      "171   C (0) | D (5)\n",
      "172   C (0) | D (5)\n",
      "173   C (0) | D (5)\n",
      "174   C (0) | D (5)\n",
      "175   C (0) | D (5)\n",
      "176   C (0) | D (5)\n",
      "177   C (0) | D (5)\n",
      "178   C (0) | D (5)\n",
      "179   C (0) | D (5)\n",
      "180   C (0) | D (5)\n",
      "181   C (0) | D (5)\n",
      "182   C (0) | D (5)\n",
      "183   C (0) | D (5)\n",
      "184   C (0) | D (5)\n",
      "185   C (0) | D (5)\n",
      "186   C (0) | D (5)\n",
      "187   C (0) | D (5)\n",
      "188   C (0) | D (5)\n",
      "189   C (0) | D (5)\n",
      "190   C (0) | D (5)\n",
      "191   C (0) | D (5)\n",
      "192   C (0) | D (5)\n",
      "193   C (0) | D (5)\n",
      "194   C (0) | D (5)\n",
      "195   C (0) | D (5)\n",
      "196   C (0) | D (5)\n",
      "197   C (0) | D (5)\n",
      "198   C (0) | D (5)\n",
      "199   C (0) | D (5)\n",
      "200   C (0) | D (5)\n",
      "201   C (0) | D (5)\n",
      "202   C (0) | D (5)\n",
      "203   C (0) | D (5)\n",
      "204   C (0) | D (5)\n",
      "205   C (0) | D (5)\n",
      "206   C (0) | D (5)\n",
      "207   C (0) | D (5)\n",
      "208   C (0) | D (5)\n",
      "209   C (0) | D (5)\n",
      "210   C (0) | D (5)\n",
      "211   C (0) | D (5)\n",
      "212   C (0) | D (5)\n",
      "213   C (0) | D (5)\n",
      "214   C (0) | D (5)\n",
      "215   C (0) | D (5)\n",
      "216   C (0) | D (5)\n",
      "217   C (0) | D (5)\n",
      "218   C (0) | D (5)\n",
      "219   C (0) | D (5)\n",
      "220   C (0) | D (5)\n",
      "221   C (0) | D (5)\n",
      "222   C (0) | D (5)\n",
      "223   C (0) | D (5)\n",
      "224   C (0) | D (5)\n",
      "225   C (0) | D (5)\n",
      "226   C (0) | D (5)\n",
      "227   C (0) | D (5)\n",
      "228   C (0) | D (5)\n",
      "229   C (0) | D (5)\n",
      "230   C (0) | D (5)\n",
      "231   C (0) | D (5)\n",
      "232   C (0) | D (5)\n",
      "233   C (0) | D (5)\n",
      "234   C (0) | D (5)\n",
      "235   C (0) | D (5)\n",
      "236   C (0) | D (5)\n",
      "237   C (0) | D (5)\n",
      "238   C (0) | D (5)\n",
      "239   C (0) | D (5)\n",
      "240   C (0) | D (5)\n",
      "241   C (0) | D (5)\n",
      "242   C (0) | D (5)\n",
      "243   C (0) | D (5)\n",
      "244   C (0) | D (5)\n",
      "245   C (0) | D (5)\n",
      "246   C (0) | D (5)\n",
      "247   C (0) | D (5)\n",
      "248   C (0) | D (5)\n",
      "249   C (0) | D (5)\n"
     ]
    }
   ],
   "source": [
    "# Load our trained agent (with epsilon=0 to use a totally greedy strategy in evaluation)\n",
    "trained_agent = TabularQLearningAgent(epsilon=0, file=\"q_table.npz\")\n",
    "\n",
    "# Instantiate our opponent\n",
    "all_d = AllD()\n",
    "\n",
    "# Run a match\n",
    "rewards = []\n",
    "for i, (move1, move2), (reward1, reward2) in play_ipd(trained_agent, all_d):\n",
    "    print(f\"{i:<5} {move1} ({reward1}) | {move2} ({reward2})\")\n",
    "    rewards.append(reward1)"
   ]
  },
  {
   "attachments": {},
   "cell_type": "markdown",
   "metadata": {},
   "source": [
    "Oh dear, that doesn't look promising! Let's work out the cumulative reward of the game."
   ]
  },
  {
   "cell_type": "code",
   "execution_count": 10,
   "metadata": {},
   "outputs": [
    {
     "data": {
      "text/plain": [
       "0"
      ]
     },
     "execution_count": 10,
     "metadata": {},
     "output_type": "execute_result"
    }
   ],
   "source": [
    "sum(rewards)"
   ]
  },
  {
   "cell_type": "markdown",
   "metadata": {},
   "source": [
    "Well, that's disappointing! While our agent learns to do well against `TitForTat` by cooperating, it performs poorly against `AllD`, which is a significantly more exploitative opponent. This highlights the limits of using this strategy with the aim of training an agent that generalises to perform well against a range of opponents (such as the agents submitted to the IPD tournament on DOXA!), so where might you go from here?"
   ]
  },
  {
   "cell_type": "markdown",
   "metadata": {},
   "source": [
    "## Next steps\n",
    "\n",
    "There are a few different directions in which you could go. Here are just a few ideas:\n",
    "- Train the model for a larger number of episodes\n",
    "- Experiment with different learning rates and discount factors\n",
    "    - Decrease the learning rate over time on a schedule\n",
    "- Train agents against a pool of opponents, instead of just one\n",
    "- Use a larger move history (perhaps taking into account the previous two or three moves instead of only the previous move), which could potentially allow the agent to discern between opponents' strategies\n",
    "- Investigate the use of \"experience replay\"\n",
    "- Switch to an approach based on deep Q-learning (DQN)\n",
    "    - To do so, you may have to consider how you might want to represent the state.\n",
    "    - What loss function might you want to use? (research the [Huber loss](https://pytorch.org/docs/stable/generated/torch.nn.HuberLoss.html))\n",
    "- Try engineering some features from the game to use as input to a deep Q-network\n",
    "- Try out double Q-learning (either tabular or DQN)\n",
    "- Experiment with different deep Q-network architectures (e.g. in the paper [Playing Atari with Deep Reinforcement Learning](https://www.cs.toronto.edu/~vmnih/docs/dqn.pdf), Mnih et al. use a convolutional neural network, although that might be less appropriate in this setting)\n",
    "- Research other reinforcement learning algorithms (e.g. [REINFORCE](https://people.cs.umass.edu/~barto/courses/cs687/williams92simple.pdf), [deep deterministic policy gradient](https://arxiv.org/pdf/1509.02971.pdf), [twin-delayed deep deterministic policy gradient](https://arxiv.org/pdf/1802.09477.pdf) (TD3), [proximal policy optimisation](https://arxiv.org/pdf/1707.06347.pdf), [soft actor-critic](https://arxiv.org/pdf/1801.01290.pdf), etc)\n",
    "\n",
    "The DOXA execution environment includes both [tf-agents](https://www.tensorflow.org/agents) (based on [TensorFlow](https://www.tensorflow.org/)) and [PyTorch](https://pytorch.org/) that you can use to create your own agents.\n"
   ]
  }
 ],
 "metadata": {
  "kernelspec": {
   "display_name": "Python 3.10.1 64-bit",
   "language": "python",
   "name": "python3"
  },
  "language_info": {
   "codemirror_mode": {
    "name": "ipython",
    "version": 3
   },
   "file_extension": ".py",
   "mimetype": "text/x-python",
   "name": "python",
   "nbconvert_exporter": "python",
   "pygments_lexer": "ipython3",
   "version": "3.10.1 (tags/v3.10.1:2cd268a, Dec  6 2021, 19:10:37) [MSC v.1929 64 bit (AMD64)]"
  },
  "orig_nbformat": 4,
  "vscode": {
   "interpreter": {
    "hash": "369f2c481f4da34e4445cda3fffd2e751bd1c4d706f27375911949ba6bb62e1c"
   }
  }
 },
 "nbformat": 4,
 "nbformat_minor": 2
}
