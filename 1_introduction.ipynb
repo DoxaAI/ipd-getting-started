{
 "cells": [
  {
   "attachments": {},
   "cell_type": "markdown",
   "metadata": {},
   "source": [
    "# Introduction to the Iterated Prisoner's Dilemma\n",
    "\n",
    "## The Prisoner's Dilemma\n",
    "\n",
    "The **prisoner's dilemma** is a social dilemma game in which individual and collective interests conflict: while both players are individually incentivised to betray the other (by \"**defecting**\"), their collective interests would be best served by **cooperating**. \n",
    "\n",
    "Traditionally, the game has been framed in terms of there being two detainees arrested at the scene of a crime, who while undergoing interrogation in separate rooms both have the choice of either cooperating with each other (by remaining silent on whether the pair had committed a criminal act, perhaps only going to jail for two years each for minor offences) or defecting (by confessing to the authorities in order to go free themselves while condemming the other player to 5 years in jail) with the catch that if they both defect, they collectively spend the longest in jail (4 years each).\n",
    "\n",
    "This dynamic can be encapsulated in the following **payoff matrix** showing the reward to each player:\n",
    "\n",
    "| (A, B)        | **Cooperate** | **Defect**  |\n",
    "|---------------|---------------|-------------|\n",
    "| **Cooperate** | (3, 3)        | (0, 5)      |\n",
    "| **Defect**    | (5, 0)        | (1, 1)      |\n",
    "\n",
    "Not knowing what the other player will do, the optimal strategy is to defect, even if both players could maximise their combined total reward by cooperating.\n",
    "\n",
    "## The Iterated Prisoner's Dilemma\n",
    "\n",
    "In the **iterated prisoner's dilemma** (IPD) game, the same prisoners repeatedly face the same situation, accumulating the rewards from each round. As such, if the number of rounds is unknown (or infinite, although that might take a while!), it is possible for the players over time to arrive at some tacit understanding and cooperate with one another so as to maximise their combined payoff.\n",
    "\n",
    "In 1980, Prof Robert Axelrod invited a broad range of participants &ndash; including experts in game theory, economics and political science &ndash; to contribute IPD strategies, which he ran against each other in two celebrated round-robin tournaments. He then analysed the tournament results and winning strategies in two papers: [_Effective Choice in the Prisoner's Dilemma_](https://journals.sagepub.com/doi/abs/10.1177/002200278002400101) [1] and [_More Effective Choice in the Prisoner's Dilemma_](https://journals.sagepub.com/doi/abs/10.1177/002200278002400301) [2].\n",
    "\n",
    "Interestingly, the strategy that won both of Axelrod's eponymous tournaments was a \"tit-for-tat\" strategy of equivalent retaliation: cooperating initially and playing whatever the opponent played in the previous round thereafter.\n",
    "\n",
    "## Example IPD Game\n",
    "\n",
    "We can now look at a few examples of the iterated prisoner's dilemma in action. In this version of the game, there is a fixed probability of `0.00346` that the game will end after each round and a hard limit of 400 rounds. On average, you can expect each game to have ~289 rounds."
   ]
  },
  {
   "cell_type": "code",
   "execution_count": null,
   "metadata": {},
   "outputs": [],
   "source": [
    "from typing import Literal\n",
    "\n",
    "from engine import IPDPlayer, play_ipd\n",
    "from examples.simple import AllC, AllD, Random, TitForTat"
   ]
  },
  {
   "attachments": {},
   "cell_type": "markdown",
   "metadata": {},
   "source": [
    "Here is what a game of the iterated prisoner's dilemma between an agent that cooperates or defects randomly, and an agent employing a tit-for-tat strategy might look like:"
   ]
  },
  {
   "cell_type": "code",
   "execution_count": null,
   "metadata": {},
   "outputs": [],
   "source": [
    "for i, (move1, move2), (reward1, reward2) in play_ipd(Random(), TitForTat()):\n",
    "    print(f\"{i:<5} {move1} ({reward1}) | {move2} ({reward2})\")"
   ]
  },
  {
   "attachments": {},
   "cell_type": "markdown",
   "metadata": {},
   "source": [
    "Feel free to replace either `Random` and `TitForTat` with `AllC` or `AllD`, which always cooperate and defect, respectively, to see what happens!\n",
    "\n",
    "## Live Demo\n",
    "\n",
    "It is now your turn to play a game against an agent! \n",
    "\n",
    "First, we can quickly define a `HumanPlayer` that will allow you to choose whether to cooperate or defect by inputting `\"C\"` or `\"D\"`, respectively."
   ]
  },
  {
   "cell_type": "code",
   "execution_count": null,
   "metadata": {},
   "outputs": [],
   "source": [
    "class HumanPlayer(IPDPlayer):\n",
    "    def play_move(self, opponent: IPDPlayer) -> Literal[\"C\", \"D\"]:\n",
    "        while (action := input(\"> \")) not in (\"C\", \"D\"):\n",
    "            if not action:\n",
    "                raise ValueError\n",
    "\n",
    "            print(\"Input 'C' or 'D'.\")\n",
    "\n",
    "        return action"
   ]
  },
  {
   "attachments": {},
   "cell_type": "markdown",
   "metadata": {},
   "source": [
    "Now, we can run the game &ndash; how well can you do?"
   ]
  },
  {
   "cell_type": "code",
   "execution_count": null,
   "metadata": {},
   "outputs": [],
   "source": [
    "try:\n",
    "    # try changing TitForTat to AllD, AllC or Random\n",
    "    for i, (move1, move2), (reward1, reward2) in play_ipd(HumanPlayer(), TitForTat()):\n",
    "        print(f\"{i:<5} {move1} ({reward1}) | {move2} ({reward2})\")\n",
    "except:\n",
    "    print(\"=== END OF GAME ===\")"
   ]
  },
  {
   "attachments": {},
   "cell_type": "markdown",
   "metadata": {},
   "source": [
    "## Participating in the DOXA Competition\n",
    "\n",
    "Now that you are hopefully a bit more familiar with the iterated prisoner's dilemma, you are ready to take part in the IPD tournament on DOXA!\n",
    "\n",
    "Firstly, ensure that you have the DOXA CLI installed. If you do not, you can install it using the following command:\n",
    "```bash\n",
    "pip install doxa-cli\n",
    "```\n",
    "\n",
    "To get started, simply implement your strategy in `submission/run.py`. You can use the Jupyter notebook `3_evaluation.ipynb` to test your agent.\n",
    "\n",
    "When you are ready to upload your submission to DOXA, run the following command from the root of this repository:\n",
    "\n",
    "```bash\n",
    "doxa upload submission\n",
    "```\n",
    "\n",
    "**Note**: the `submission` directory must contain all the files necessary to run your agent, including the `doxa.yaml`, `ipd.py` and `run.py` files, as well as any trained models (if applicable)."
   ]
  },
  {
   "attachments": {},
   "cell_type": "markdown",
   "metadata": {},
   "source": [
    "## References\n",
    "\n",
    "> [1] Axelrod, R., 1980. Effective choice in the prisoner's dilemma. Journal of conflict resolution, 24(1), pp.3-25.\n",
    ">\n",
    "> [2] Axelrod, R., 1980. More effective choice in the prisoner's dilemma. Journal of conflict resolution, 24(3), pp.379-403."
   ]
  }
 ],
 "metadata": {
  "kernelspec": {
   "display_name": "Python 3.10.1 64-bit",
   "language": "python",
   "name": "python3"
  },
  "language_info": {
   "codemirror_mode": {
    "name": "ipython",
    "version": 3
   },
   "file_extension": ".py",
   "mimetype": "text/x-python",
   "name": "python",
   "nbconvert_exporter": "python",
   "pygments_lexer": "ipython3",
   "version": "3.10.1 (tags/v3.10.1:2cd268a, Dec  6 2021, 19:10:37) [MSC v.1929 64 bit (AMD64)]"
  },
  "orig_nbformat": 4,
  "vscode": {
   "interpreter": {
    "hash": "369f2c481f4da34e4445cda3fffd2e751bd1c4d706f27375911949ba6bb62e1c"
   }
  }
 },
 "nbformat": 4,
 "nbformat_minor": 2
}
