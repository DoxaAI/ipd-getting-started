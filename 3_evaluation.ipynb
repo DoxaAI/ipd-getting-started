{
 "cells": [
  {
   "attachments": {},
   "cell_type": "markdown",
   "metadata": {},
   "source": [
    "# Evaluating Your Agent\n",
    "\n",
    "If you want to make sure your agent works before you submit it to DOXA, you can try running it against a few simple strategies to see how it performs.\n",
    "\n",
    "## Imports"
   ]
  },
  {
   "cell_type": "code",
   "execution_count": null,
   "metadata": {},
   "outputs": [],
   "source": [
    "from typing import Literal\n",
    "\n",
    "from engine import IPDPlayer, play_ipd\n",
    "from examples.simple import AllC, AllD, Random, TitForTat\n",
    "from submission.run import Agent  # your agent"
   ]
  },
  {
   "attachments": {},
   "cell_type": "markdown",
   "metadata": {},
   "source": [
    "## Example game\n",
    "\n",
    "Try replacing `TitForTat` with `Random`, `AllC` or `AllD` to see how your agent behaves!"
   ]
  },
  {
   "cell_type": "code",
   "execution_count": null,
   "metadata": {},
   "outputs": [],
   "source": [
    "for i, (move1, move2), (reward1, reward2) in play_ipd(Agent(), TitForTat()):\n",
    "    print(f\"{i:<5} {move1} ({reward1}) | {move2} ({reward2})\")"
   ]
  },
  {
   "attachments": {},
   "cell_type": "markdown",
   "metadata": {},
   "source": [
    "## Live Demo\n",
    "\n",
    "It can also be useful to try playing games against your agent manually, particularly if your agent takes a long action history into account. How well can you do against your agent?"
   ]
  },
  {
   "cell_type": "code",
   "execution_count": null,
   "metadata": {},
   "outputs": [],
   "source": [
    "class HumanPlayer(IPDPlayer):\n",
    "    def play_move(self, opponent: IPDPlayer) -> Literal[\"C\", \"D\"]:\n",
    "        while (action := input(\"> \")) not in (\"C\", \"D\"):\n",
    "            if not action:\n",
    "                raise ValueError\n",
    "\n",
    "            print(\"Input 'C' or 'D'.\")\n",
    "\n",
    "        return action"
   ]
  },
  {
   "cell_type": "code",
   "execution_count": null,
   "metadata": {},
   "outputs": [],
   "source": [
    "try:\n",
    "    for i, (move1, move2), (reward1, reward2) in play_ipd(HumanPlayer(), Agent()):\n",
    "        print(f\"{i:<5} {move1} ({reward1}) | {move2} ({reward2})\")\n",
    "except:\n",
    "    print(\"=== END OF GAME ===\")"
   ]
  }
 ],
 "metadata": {
  "kernelspec": {
   "display_name": "Python 3.10.1 64-bit",
   "language": "python",
   "name": "python3"
  },
  "language_info": {
   "codemirror_mode": {
    "name": "ipython",
    "version": 3
   },
   "file_extension": ".py",
   "mimetype": "text/x-python",
   "name": "python",
   "nbconvert_exporter": "python",
   "pygments_lexer": "ipython3",
   "version": "3.10.1 (tags/v3.10.1:2cd268a, Dec  6 2021, 19:10:37) [MSC v.1929 64 bit (AMD64)]"
  },
  "orig_nbformat": 4,
  "vscode": {
   "interpreter": {
    "hash": "369f2c481f4da34e4445cda3fffd2e751bd1c4d706f27375911949ba6bb62e1c"
   }
  }
 },
 "nbformat": 4,
 "nbformat_minor": 2
}
